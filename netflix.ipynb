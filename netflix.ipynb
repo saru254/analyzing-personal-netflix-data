{
 "cells": [
  {
   "cell_type": "code",
   "execution_count": 134,
   "metadata": {},
   "outputs": [],
   "source": [
    "import pandas as pd\n",
    "df = pd.read_csv('ViewingActivity.csv')"
   ]
  },
  {
   "cell_type": "code",
   "execution_count": 135,
   "metadata": {},
   "outputs": [
    {
     "data": {
      "text/plain": [
       "(374, 10)"
      ]
     },
     "execution_count": 135,
     "metadata": {},
     "output_type": "execute_result"
    }
   ],
   "source": [
    "#quick review if everything is working correctly.\n",
    "df.shape"
   ]
  },
  {
   "cell_type": "code",
   "execution_count": 136,
   "metadata": {},
   "outputs": [
    {
     "data": {
      "text/html": [
       "<div>\n",
       "<style scoped>\n",
       "    .dataframe tbody tr th:only-of-type {\n",
       "        vertical-align: middle;\n",
       "    }\n",
       "\n",
       "    .dataframe tbody tr th {\n",
       "        vertical-align: top;\n",
       "    }\n",
       "\n",
       "    .dataframe thead th {\n",
       "        text-align: right;\n",
       "    }\n",
       "</style>\n",
       "<table border=\"1\" class=\"dataframe\">\n",
       "  <thead>\n",
       "    <tr style=\"text-align: right;\">\n",
       "      <th></th>\n",
       "      <th>.Profile Name</th>\n",
       "      <th>Start Time</th>\n",
       "      <th>Duration</th>\n",
       "      <th>Attributes</th>\n",
       "      <th>Title</th>\n",
       "      <th>Supplemental Video Type</th>\n",
       "      <th>Device Type</th>\n",
       "      <th>Bookmark</th>\n",
       "      <th>Latest Bookmark</th>\n",
       "      <th>Country</th>\n",
       "    </tr>\n",
       "  </thead>\n",
       "  <tbody>\n",
       "    <tr>\n",
       "      <th>0</th>\n",
       "      <td>Karen</td>\n",
       "      <td>2023-02-17 17:56:27</td>\n",
       "      <td>00:00:11</td>\n",
       "      <td>NaN</td>\n",
       "      <td>Season 4 Part 2 Trailer: You</td>\n",
       "      <td>TRAILER</td>\n",
       "      <td>Android DefaultWidevineL3Phone Android Phone</td>\n",
       "      <td>00:00:10</td>\n",
       "      <td>00:00:10</td>\n",
       "      <td>KE (Kenya)</td>\n",
       "    </tr>\n",
       "    <tr>\n",
       "      <th>1</th>\n",
       "      <td>Karen</td>\n",
       "      <td>2023-02-17 17:46:50</td>\n",
       "      <td>00:05:52</td>\n",
       "      <td>NaN</td>\n",
       "      <td>The Umbrella Academy: Season 2: Right Back Whe...</td>\n",
       "      <td>NaN</td>\n",
       "      <td>Android DefaultWidevineL3Phone Android Phone</td>\n",
       "      <td>00:08:16</td>\n",
       "      <td>00:08:16</td>\n",
       "      <td>KE (Kenya)</td>\n",
       "    </tr>\n",
       "    <tr>\n",
       "      <th>2</th>\n",
       "      <td>Karen</td>\n",
       "      <td>2023-02-17 17:15:17</td>\n",
       "      <td>00:03:41</td>\n",
       "      <td>NaN</td>\n",
       "      <td>The Umbrella Academy: Season 1: Changes (Episo...</td>\n",
       "      <td>NaN</td>\n",
       "      <td>Android DefaultWidevineL3Phone Android Phone</td>\n",
       "      <td>00:42:33</td>\n",
       "      <td>00:42:33</td>\n",
       "      <td>KE (Kenya)</td>\n",
       "    </tr>\n",
       "    <tr>\n",
       "      <th>3</th>\n",
       "      <td>Karen</td>\n",
       "      <td>2023-02-17 10:24:39</td>\n",
       "      <td>00:24:25</td>\n",
       "      <td>NaN</td>\n",
       "      <td>The Umbrella Academy: Season 1: Changes (Episo...</td>\n",
       "      <td>NaN</td>\n",
       "      <td>Android DefaultWidevineL3Phone Android Phone</td>\n",
       "      <td>00:35:33</td>\n",
       "      <td>Not latest view</td>\n",
       "      <td>KE (Kenya)</td>\n",
       "    </tr>\n",
       "    <tr>\n",
       "      <th>4</th>\n",
       "      <td>Karen</td>\n",
       "      <td>2023-02-15 19:10:34</td>\n",
       "      <td>00:03:59</td>\n",
       "      <td>NaN</td>\n",
       "      <td>The Umbrella Academy: Season 1: The Day That W...</td>\n",
       "      <td>NaN</td>\n",
       "      <td>Android DefaultWidevineL3Phone Android Phone</td>\n",
       "      <td>00:31:04</td>\n",
       "      <td>00:31:04</td>\n",
       "      <td>KE (Kenya)</td>\n",
       "    </tr>\n",
       "  </tbody>\n",
       "</table>\n",
       "</div>"
      ],
      "text/plain": [
       "  .Profile Name           Start Time  Duration  Attributes  \\\n",
       "0         Karen  2023-02-17 17:56:27  00:00:11         NaN   \n",
       "1         Karen  2023-02-17 17:46:50  00:05:52         NaN   \n",
       "2         Karen  2023-02-17 17:15:17  00:03:41         NaN   \n",
       "3         Karen  2023-02-17 10:24:39  00:24:25         NaN   \n",
       "4         Karen  2023-02-15 19:10:34  00:03:59         NaN   \n",
       "\n",
       "                                               Title Supplemental Video Type  \\\n",
       "0                       Season 4 Part 2 Trailer: You                 TRAILER   \n",
       "1  The Umbrella Academy: Season 2: Right Back Whe...                     NaN   \n",
       "2  The Umbrella Academy: Season 1: Changes (Episo...                     NaN   \n",
       "3  The Umbrella Academy: Season 1: Changes (Episo...                     NaN   \n",
       "4  The Umbrella Academy: Season 1: The Day That W...                     NaN   \n",
       "\n",
       "                                    Device Type  Bookmark  Latest Bookmark  \\\n",
       "0  Android DefaultWidevineL3Phone Android Phone  00:00:10         00:00:10   \n",
       "1  Android DefaultWidevineL3Phone Android Phone  00:08:16         00:08:16   \n",
       "2  Android DefaultWidevineL3Phone Android Phone  00:42:33         00:42:33   \n",
       "3  Android DefaultWidevineL3Phone Android Phone  00:35:33  Not latest view   \n",
       "4  Android DefaultWidevineL3Phone Android Phone  00:31:04         00:31:04   \n",
       "\n",
       "      Country  \n",
       "0  KE (Kenya)  \n",
       "1  KE (Kenya)  \n",
       "2  KE (Kenya)  \n",
       "3  KE (Kenya)  \n",
       "4  KE (Kenya)  "
      ]
     },
     "execution_count": 136,
     "metadata": {},
     "output_type": "execute_result"
    }
   ],
   "source": [
    "df.head(5)"
   ]
  },
  {
   "cell_type": "code",
   "execution_count": 137,
   "metadata": {},
   "outputs": [
    {
     "data": {
      "text/html": [
       "<div>\n",
       "<style scoped>\n",
       "    .dataframe tbody tr th:only-of-type {\n",
       "        vertical-align: middle;\n",
       "    }\n",
       "\n",
       "    .dataframe tbody tr th {\n",
       "        vertical-align: top;\n",
       "    }\n",
       "\n",
       "    .dataframe thead th {\n",
       "        text-align: right;\n",
       "    }\n",
       "</style>\n",
       "<table border=\"1\" class=\"dataframe\">\n",
       "  <thead>\n",
       "    <tr style=\"text-align: right;\">\n",
       "      <th></th>\n",
       "      <th>Start Time</th>\n",
       "      <th>Duration</th>\n",
       "      <th>Title</th>\n",
       "    </tr>\n",
       "  </thead>\n",
       "  <tbody>\n",
       "    <tr>\n",
       "      <th>0</th>\n",
       "      <td>2023-02-17 17:56:27</td>\n",
       "      <td>00:00:11</td>\n",
       "      <td>Season 4 Part 2 Trailer: You</td>\n",
       "    </tr>\n",
       "  </tbody>\n",
       "</table>\n",
       "</div>"
      ],
      "text/plain": [
       "            Start Time  Duration                         Title\n",
       "0  2023-02-17 17:56:27  00:00:11  Season 4 Part 2 Trailer: You"
      ]
     },
     "execution_count": 137,
     "metadata": {},
     "output_type": "execute_result"
    }
   ],
   "source": [
    "#prep for analysis.\n",
    "df = df.drop(['.Profile Name', 'Attributes', 'Supplemental Video Type', 'Device Type', 'Bookmark', 'Latest Bookmark', 'Country'], axis=1)\n",
    "df.head(1)"
   ]
  },
  {
   "cell_type": "code",
   "execution_count": 138,
   "metadata": {},
   "outputs": [
    {
     "data": {
      "text/plain": [
       "Start Time    object\n",
       "Duration      object\n",
       "Title         object\n",
       "dtype: object"
      ]
     },
     "execution_count": 138,
     "metadata": {},
     "output_type": "execute_result"
    }
   ],
   "source": [
    "#converting strings to datetime and timedelta.\n",
    "df.dtypes"
   ]
  },
  {
   "cell_type": "code",
   "execution_count": 139,
   "metadata": {},
   "outputs": [
    {
     "data": {
      "text/plain": [
       "Start Time    datetime64[ns, UTC]\n",
       "Duration                   object\n",
       "Title                      object\n",
       "dtype: object"
      ]
     },
     "execution_count": 139,
     "metadata": {},
     "output_type": "execute_result"
    }
   ],
   "source": [
    "#Convert Start Time to datetime \n",
    "df['Start Time'] = pd.to_datetime(df['Start Time'], utc=True)\n",
    "df.dtypes"
   ]
  },
  {
   "cell_type": "code",
   "execution_count": 140,
   "metadata": {},
   "outputs": [
    {
     "data": {
      "text/html": [
       "<div>\n",
       "<style scoped>\n",
       "    .dataframe tbody tr th:only-of-type {\n",
       "        vertical-align: middle;\n",
       "    }\n",
       "\n",
       "    .dataframe tbody tr th {\n",
       "        vertical-align: top;\n",
       "    }\n",
       "\n",
       "    .dataframe thead th {\n",
       "        text-align: right;\n",
       "    }\n",
       "</style>\n",
       "<table border=\"1\" class=\"dataframe\">\n",
       "  <thead>\n",
       "    <tr style=\"text-align: right;\">\n",
       "      <th></th>\n",
       "      <th>Start Time</th>\n",
       "      <th>Duration</th>\n",
       "      <th>Title</th>\n",
       "    </tr>\n",
       "  </thead>\n",
       "  <tbody>\n",
       "    <tr>\n",
       "      <th>0</th>\n",
       "      <td>2023-02-17 20:56:27+03:00</td>\n",
       "      <td>00:00:11</td>\n",
       "      <td>Season 4 Part 2 Trailer: You</td>\n",
       "    </tr>\n",
       "  </tbody>\n",
       "</table>\n",
       "</div>"
      ],
      "text/plain": [
       "                 Start Time  Duration                         Title\n",
       "0 2023-02-17 20:56:27+03:00  00:00:11  Season 4 Part 2 Trailer: You"
      ]
     },
     "execution_count": 140,
     "metadata": {},
     "output_type": "execute_result"
    }
   ],
   "source": [
    "#Convert Start Time from UTC to our local timezone\n",
    "# Assuming df is your DataFrame\n",
    "df = df.set_index('Start Time')\n",
    "\n",
    "# Convert from UTC timezone to Nairobi, Kenya timezone\n",
    "df.index = df.index.tz_convert('Africa/Nairobi')\n",
    "\n",
    "# Reset the index so that Start Time becomes a column again\n",
    "df = df.reset_index()\n",
    "\n",
    "# Double-check that it worked\n",
    "df.head(1)\n"
   ]
  },
  {
   "cell_type": "code",
   "execution_count": 141,
   "metadata": {},
   "outputs": [
    {
     "data": {
      "text/plain": [
       "Start Time    datetime64[ns, Africa/Nairobi]\n",
       "Duration                     timedelta64[ns]\n",
       "Title                                 object\n",
       "dtype: object"
      ]
     },
     "execution_count": 141,
     "metadata": {},
     "output_type": "execute_result"
    }
   ],
   "source": [
    "#Convert Duration to timedelta\n",
    "df['Duration'] = pd.to_timedelta(df['Duration'])\n",
    "df.dtypes"
   ]
  },
  {
   "cell_type": "code",
   "execution_count": 142,
   "metadata": {},
   "outputs": [
    {
     "data": {
      "text/plain": [
       "(1, 3)"
      ]
     },
     "execution_count": 142,
     "metadata": {},
     "output_type": "execute_result"
    }
   ],
   "source": [
    "#Filtering Strings by Substring in pandas Using str.contains\n",
    "# create a new dataframe called office that that takes from df\n",
    "# only the rows in which the Title column contains 'Season 4 Part 2 Trailer: You'\n",
    "You = df[df['Title'].str.contains('Season 4 Part 2 Trailer: You', regex=False)]\n",
    "You.shape"
   ]
  },
  {
   "cell_type": "code",
   "execution_count": 143,
   "metadata": {},
   "outputs": [
    {
     "data": {
      "text/plain": [
       "(0, 3)"
      ]
     },
     "execution_count": 143,
     "metadata": {},
     "output_type": "execute_result"
    }
   ],
   "source": [
    "#Filtering Out Short Durations Using Timedelta\n",
    "You = You[(You['Duration'] > '0 days 00:01:00')]\n",
    "You.shape"
   ]
  },
  {
   "cell_type": "code",
   "execution_count": 144,
   "metadata": {},
   "outputs": [
    {
     "data": {
      "text/plain": [
       "Timedelta('0 days 00:00:00')"
      ]
     },
     "execution_count": 144,
     "metadata": {},
     "output_type": "execute_result"
    }
   ],
   "source": [
    "#Analyzing the Data\n",
    "You['Duration'].sum()"
   ]
  },
  {
   "cell_type": "code",
   "execution_count": null,
   "metadata": {},
   "outputs": [],
   "source": []
  },
  {
   "cell_type": "code",
   "execution_count": null,
   "metadata": {},
   "outputs": [],
   "source": []
  },
  {
   "cell_type": "code",
   "execution_count": null,
   "metadata": {},
   "outputs": [],
   "source": []
  }
 ],
 "metadata": {
  "kernelspec": {
   "display_name": "Python 3 (ipykernel)",
   "language": "python",
   "name": "python3"
  },
  "language_info": {
   "codemirror_mode": {
    "name": "ipython",
    "version": 3
   },
   "file_extension": ".py",
   "mimetype": "text/x-python",
   "name": "python",
   "nbconvert_exporter": "python",
   "pygments_lexer": "ipython3",
   "version": "3.10.8"
  },
  "orig_nbformat": 4
 },
 "nbformat": 4,
 "nbformat_minor": 2
}
